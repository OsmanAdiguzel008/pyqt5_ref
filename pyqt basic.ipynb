{
 "cells": [
  {
   "cell_type": "markdown",
   "id": "b22e1d2a",
   "metadata": {},
   "source": [
    "## Layouts"
   ]
  },
  {
   "cell_type": "code",
   "execution_count": 1,
   "id": "17dc88ae",
   "metadata": {},
   "outputs": [
    {
     "name": "stderr",
     "output_type": "stream",
     "text": [
      "Warning: Ignoring XDG_SESSION_TYPE=wayland on Gnome. Use QT_QPA_PLATFORM=wayland to run on Wayland anyway.\n"
     ]
    },
    {
     "data": {
      "text/plain": [
       "0"
      ]
     },
     "execution_count": 1,
     "metadata": {},
     "output_type": "execute_result"
    }
   ],
   "source": [
    "from PyQt5.QtWidgets import QApplication, QWidget, QPushButton, QVBoxLayout\n",
    "app = QApplication([])\n",
    "window = QWidget()\n",
    "layout = QVBoxLayout()\n",
    "layout.addWidget(QPushButton('Top'))\n",
    "layout.addWidget(QPushButton('Bottom'))\n",
    "window.setLayout(layout)\n",
    "window.show()\n",
    "app.exec()"
   ]
  },
  {
   "cell_type": "markdown",
   "id": "fae0a2c6",
   "metadata": {},
   "source": [
    "## Custom Styles"
   ]
  },
  {
   "cell_type": "code",
   "execution_count": 2,
   "id": "79662944",
   "metadata": {},
   "outputs": [
    {
     "data": {
      "text/plain": [
       "<PyQt5.QtWidgets.QCommonStyle at 0x7fd7c5ef8430>"
      ]
     },
     "execution_count": 2,
     "metadata": {},
     "output_type": "execute_result"
    }
   ],
   "source": [
    "from PyQt5.QtWidgets import *\n",
    "app = QApplication([])\n",
    "app.setStyle('Fusion')"
   ]
  },
  {
   "cell_type": "markdown",
   "id": "0d1699ab",
   "metadata": {},
   "source": [
    "## Custom Colours"
   ]
  },
  {
   "cell_type": "code",
   "execution_count": 1,
   "id": "ab40649b",
   "metadata": {},
   "outputs": [
    {
     "name": "stderr",
     "output_type": "stream",
     "text": [
      "Warning: Ignoring XDG_SESSION_TYPE=wayland on Gnome. Use QT_QPA_PLATFORM=wayland to run on Wayland anyway.\n"
     ]
    },
    {
     "data": {
      "text/plain": [
       "0"
      ]
     },
     "execution_count": 1,
     "metadata": {},
     "output_type": "execute_result"
    }
   ],
   "source": [
    "from PyQt5.QtCore import Qt\n",
    "from PyQt5.QtGui import QPalette\n",
    "from PyQt5.QtWidgets import QApplication, QPushButton\n",
    "\n",
    "app = QApplication([])\n",
    "app.setStyle('Fusion')\n",
    "palette = QPalette()\n",
    "palette.setColor(QPalette.ButtonText, Qt.red)\n",
    "app.setPalette(palette)\n",
    "button = QPushButton('Hello World')\n",
    "button.show()\n",
    "app.exec()"
   ]
  },
  {
   "cell_type": "markdown",
   "id": "f7fefb93",
   "metadata": {},
   "source": [
    "## Style sheets"
   ]
  },
  {
   "cell_type": "code",
   "execution_count": 1,
   "id": "123177e2",
   "metadata": {},
   "outputs": [
    {
     "name": "stderr",
     "output_type": "stream",
     "text": [
      "Warning: Ignoring XDG_SESSION_TYPE=wayland on Gnome. Use QT_QPA_PLATFORM=wayland to run on Wayland anyway.\n"
     ]
    },
    {
     "data": {
      "text/plain": [
       "0"
      ]
     },
     "execution_count": 1,
     "metadata": {},
     "output_type": "execute_result"
    }
   ],
   "source": [
    "from PyQt5.QtWidgets import QApplication, QPushButton\n",
    "app = QApplication([])\n",
    "app.setStyleSheet(\"QPushButton { margin: 10ex; }\")\n",
    "button = QPushButton('Hello World')\n",
    "button.show()\n",
    "app.exec()"
   ]
  },
  {
   "cell_type": "markdown",
   "id": "ebbdebc2",
   "metadata": {},
   "source": [
    "## Signals / slots"
   ]
  },
  {
   "cell_type": "code",
   "execution_count": 1,
   "id": "efae160f",
   "metadata": {},
   "outputs": [
    {
     "name": "stderr",
     "output_type": "stream",
     "text": [
      "Warning: Ignoring XDG_SESSION_TYPE=wayland on Gnome. Use QT_QPA_PLATFORM=wayland to run on Wayland anyway.\n"
     ]
    },
    {
     "data": {
      "text/plain": [
       "0"
      ]
     },
     "execution_count": 1,
     "metadata": {},
     "output_type": "execute_result"
    }
   ],
   "source": [
    "from PyQt5.QtWidgets import *\n",
    "app = QApplication([])\n",
    "button = QPushButton('Click')\n",
    "def on_button_clicked():\n",
    "    alert = QMessageBox()\n",
    "    alert.setText('You clicked the button!')\n",
    "    alert.exec()\n",
    "\n",
    "button.clicked.connect(on_button_clicked)\n",
    "button.show()\n",
    "app.exec()"
   ]
  }
 ],
 "metadata": {
  "kernelspec": {
   "display_name": "Python 3 (ipykernel)",
   "language": "python",
   "name": "python3"
  },
  "language_info": {
   "codemirror_mode": {
    "name": "ipython",
    "version": 3
   },
   "file_extension": ".py",
   "mimetype": "text/x-python",
   "name": "python",
   "nbconvert_exporter": "python",
   "pygments_lexer": "ipython3",
   "version": "3.10.4"
  }
 },
 "nbformat": 4,
 "nbformat_minor": 5
}
