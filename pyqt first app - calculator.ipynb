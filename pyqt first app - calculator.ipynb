{
 "cells": [
  {
   "cell_type": "markdown",
   "id": "6d27f82a",
   "metadata": {},
   "source": [
    "### Import Modules"
   ]
  },
  {
   "cell_type": "code",
   "execution_count": 1,
   "id": "e6aec9ca",
   "metadata": {},
   "outputs": [],
   "source": [
    "# Filename: hello.py\n",
    "\n",
    "\"\"\"Simple Hello World example with PyQt5.\"\"\"\n",
    "\n",
    "import sys\n",
    "\n",
    "# 1. Import `QApplication` and all the required widgets\n",
    "from PyQt5.QtWidgets import QApplication\n",
    "from PyQt5.QtWidgets import QLabel\n",
    "from PyQt5.QtWidgets import QWidget"
   ]
  },
  {
   "cell_type": "markdown",
   "id": "c3b0513f",
   "metadata": {},
   "source": [
    "### Create App"
   ]
  },
  {
   "cell_type": "code",
   "execution_count": 6,
   "id": "886fa7e4",
   "metadata": {},
   "outputs": [],
   "source": [
    "# 2. Create an instance of QApplication\n",
    "app = QApplication(sys.argv)"
   ]
  },
  {
   "cell_type": "code",
   "execution_count": null,
   "id": "04bb6ed8",
   "metadata": {},
   "outputs": [],
   "source": [
    "# 3. Create an instance of your application's GUI\n",
    "window = QWidget()\n",
    "window.setWindowTitle('PyQt5 App')\n",
    "window.setGeometry(100, 100, 280, 80)\n",
    "window.move(60, 15)\n",
    "helloMsg = QLabel('<h1>Hello World!</h1>', parent=window)\n",
    "helloMsg.move(60, 15)"
   ]
  },
  {
   "cell_type": "code",
   "execution_count": 1,
   "id": "493a81ae",
   "metadata": {},
   "outputs": [
    {
     "ename": "NameError",
     "evalue": "name 'window' is not defined",
     "output_type": "error",
     "traceback": [
      "\u001b[0;31m---------------------------------------------------------------------------\u001b[0m",
      "\u001b[0;31mNameError\u001b[0m                                 Traceback (most recent call last)",
      "\u001b[0;32m/tmp/ipykernel_7382/315989213.py\u001b[0m in \u001b[0;36m<module>\u001b[0;34m\u001b[0m\n\u001b[1;32m      1\u001b[0m \u001b[0;31m# 4. Show your application's GUI\u001b[0m\u001b[0;34m\u001b[0m\u001b[0;34m\u001b[0m\u001b[0m\n\u001b[0;32m----> 2\u001b[0;31m \u001b[0mwindow\u001b[0m\u001b[0;34m.\u001b[0m\u001b[0mshow\u001b[0m\u001b[0;34m(\u001b[0m\u001b[0;34m)\u001b[0m\u001b[0;34m\u001b[0m\u001b[0;34m\u001b[0m\u001b[0m\n\u001b[0m",
      "\u001b[0;31mNameError\u001b[0m: name 'window' is not defined"
     ]
    }
   ],
   "source": [
    "# 4. Show your application's GUI\n",
    "window.show()\n",
    "# 5. Run your application's event loop (or main loop)\n",
    "sys.exit(app.exec_())"
   ]
  },
  {
   "cell_type": "markdown",
   "id": "d70e8545",
   "metadata": {},
   "source": [
    "### Code Style"
   ]
  },
  {
   "cell_type": "markdown",
   "id": "a74cddb5",
   "metadata": {},
   "source": [
    "#### Basic concepts:"
   ]
  },
  {
   "cell_type": "markdown",
   "id": "4c065aae",
   "metadata": {},
   "source": [
    " - Widgets\n",
    " - Layout managers\n",
    " - Dialogs\n",
    " - Main windows\n",
    " - Applications\n",
    " - Event loops\n",
    " - Signals and slots"
   ]
  },
  {
   "cell_type": "markdown",
   "id": "59841544",
   "metadata": {},
   "source": [
    "#### Widgets:"
   ]
  },
  {
   "cell_type": "markdown",
   "id": "10a6951c",
   "metadata": {},
   "source": [
    " - Buttons\n",
    " - Labels\n",
    " - Line edits\n",
    " - Combo boxes\n",
    " - Radio buttons"
   ]
  },
  {
   "cell_type": "markdown",
   "id": "fd810078",
   "metadata": {},
   "source": [
    "#### Layout Manager"
   ]
  },
  {
   "cell_type": "markdown",
   "id": "14673205",
   "metadata": {},
   "source": [
    " - QHBoxLayout\n",
    " - QVBoxLayout\n",
    " - QGridLayout\n",
    " - QFormLayout"
   ]
  },
  {
   "cell_type": "code",
   "execution_count": null,
   "id": "07a9f863",
   "metadata": {},
   "outputs": [],
   "source": []
  }
 ],
 "metadata": {
  "kernelspec": {
   "display_name": "Python 3 (ipykernel)",
   "language": "python",
   "name": "python3"
  },
  "language_info": {
   "codemirror_mode": {
    "name": "ipython",
    "version": 3
   },
   "file_extension": ".py",
   "mimetype": "text/x-python",
   "name": "python",
   "nbconvert_exporter": "python",
   "pygments_lexer": "ipython3",
   "version": "3.10.4"
  }
 },
 "nbformat": 4,
 "nbformat_minor": 5
}
