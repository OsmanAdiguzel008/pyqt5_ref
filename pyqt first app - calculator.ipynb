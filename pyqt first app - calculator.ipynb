{
 "cells": [
  {
   "cell_type": "markdown",
   "id": "6d27f82a",
   "metadata": {},
   "source": [
    "## Import Modules"
   ]
  },
  {
   "cell_type": "code",
   "execution_count": null,
   "id": "e6aec9ca",
   "metadata": {},
   "outputs": [],
   "source": [
    "# Filename: hello.py\n",
    "\n",
    "\"\"\"Simple Hello World example with PyQt5.\"\"\"\n",
    "\n",
    "import sys\n",
    "\n",
    "# 1. Import `QApplication` and all the required widgets\n",
    "from PyQt5.QtWidgets import QApplication\n",
    "from PyQt5.QtWidgets import QLabel\n",
    "from PyQt5.QtWidgets import QWidget"
   ]
  },
  {
   "cell_type": "markdown",
   "id": "c3b0513f",
   "metadata": {},
   "source": [
    "## Create App"
   ]
  },
  {
   "cell_type": "code",
   "execution_count": null,
   "id": "886fa7e4",
   "metadata": {},
   "outputs": [],
   "source": [
    "# 2. Create an instance of QApplication\n",
    "app = QApplication(sys.argv)"
   ]
  },
  {
   "cell_type": "code",
   "execution_count": null,
   "id": "04bb6ed8",
   "metadata": {},
   "outputs": [],
   "source": [
    "# 3. Create an instance of your application's GUI\n",
    "window = QWidget()\n",
    "window.setWindowTitle('PyQt5 App')\n",
    "window.setGeometry(100, 100, 280, 80)\n",
    "window.move(60, 15)\n",
    "helloMsg = QLabel('<h1>Hello World!</h1>', parent=window)\n",
    "helloMsg.move(60, 15)"
   ]
  },
  {
   "cell_type": "code",
   "execution_count": null,
   "id": "493a81ae",
   "metadata": {},
   "outputs": [],
   "source": [
    "# 4. Show your application's GUI\n",
    "window.show()\n",
    "# 5. Run your application's event loop (or main loop)\n",
    "sys.exit(app.exec_())"
   ]
  },
  {
   "attachments": {
    "hello.webp": {
     "image/webp": "[encoded data removed]"
    }
   },
   "cell_type": "markdown",
   "id": "a9f88538",
   "metadata": {},
   "source": [
    "![hello.webp](attachment:hello.webp)"
   ]
  },
  {
   "cell_type": "markdown",
   "id": "d70e8545",
   "metadata": {},
   "source": [
    "## Code Style"
   ]
  },
  {
   "cell_type": "markdown",
   "id": "a74cddb5",
   "metadata": {},
   "source": [
    "#### Basic concepts:"
   ]
  },
  {
   "cell_type": "markdown",
   "id": "4c065aae",
   "metadata": {},
   "source": [
    " - Widgets\n",
    " - Layout managers\n",
    " - Dialogs\n",
    " - Main windows\n",
    " - Applications\n",
    " - Event loops\n",
    " - Signals and slots"
   ]
  },
  {
   "cell_type": "markdown",
   "id": "59841544",
   "metadata": {},
   "source": [
    "### Widgets:"
   ]
  },
  {
   "cell_type": "markdown",
   "id": "10a6951c",
   "metadata": {},
   "source": [
    " - Buttons\n",
    " - Labels\n",
    " - Line edits\n",
    " - Combo boxes\n",
    " - Radio buttons"
   ]
  },
  {
   "attachments": {
    "qpushbuttons.webp": {
     "image/webp": "[encoded data removed]"
    }
   },
   "cell_type": "markdown",
   "id": "b0966b48",
   "metadata": {},
   "source": [
    "######  QPushButton;\n",
    "![QPushButton.webp](attachment:qpushbuttons.webp)"
   ]
  },
  {
   "attachments": {
    "QLineEdit.webp": {
     "image/webp": "[encoded data removed]"
    }
   },
   "cell_type": "markdown",
   "id": "6038b350",
   "metadata": {},
   "source": [
    "###### QLineEdit;\n",
    "![QLineEdit.webp](attachment:QLineEdit.webp)"
   ]
  },
  {
   "attachments": {},
   "cell_type": "markdown",
   "id": "52e328e0",
   "metadata": {},
   "source": [
    "###### QRadioButton;\n",
    "https://files.realpython.com/media/radio-buttons.dc2424d696dc.gif"
   ]
  },
  {
   "cell_type": "markdown",
   "id": "fd810078",
   "metadata": {},
   "source": [
    "### Layout Manager"
   ]
  },
  {
   "cell_type": "markdown",
   "id": "14673205",
   "metadata": {},
   "source": [
    " - QHBoxLayout\n",
    " - QVBoxLayout\n",
    " - QGridLayout\n",
    " - QFormLayout"
   ]
  },
  {
   "cell_type": "code",
   "execution_count": null,
   "id": "07a9f863",
   "metadata": {},
   "outputs": [],
   "source": [
    "# Filename: h_layout.py\n",
    "\n",
    "\"\"\"Horizontal layout example.\"\"\"\n",
    "\n",
    "import sys\n",
    "\n",
    "from PyQt5.QtWidgets import QApplication\n",
    "from PyQt5.QtWidgets import QHBoxLayout\n",
    "from PyQt5.QtWidgets import QPushButton\n",
    "from PyQt5.QtWidgets import QWidget\n",
    "\n",
    "app = QApplication(sys.argv)\n",
    "window = QWidget()\n",
    "window.setWindowTitle('QHBoxLayout')\n",
    "layout = QHBoxLayout()\n",
    "layout.addWidget(QPushButton('Left'))\n",
    "layout.addWidget(QPushButton('Center'))\n",
    "layout.addWidget(QPushButton('Right'))\n",
    "window.setLayout(layout)\n",
    "window.show()\n",
    "sys.exit(app.exec_())"
   ]
  },
  {
   "attachments": {
    "h-layout.webp": {
     "image/webp": "[encoded data removed]"
    }
   },
   "cell_type": "markdown",
   "id": "a57ea1cd",
   "metadata": {},
   "source": [
    "![h-layout.webp](attachment:h-layout.webp)"
   ]
  },
  {
   "cell_type": "code",
   "execution_count": null,
   "id": "e2601a3e",
   "metadata": {},
   "outputs": [],
   "source": [
    "# Filename: h_layout.py\n",
    "\n",
    "\"\"\"Horizontal layout example.\"\"\"\n",
    "\n",
    "import sys\n",
    "\n",
    "from PyQt5.QtWidgets import QApplication\n",
    "from PyQt5.QtWidgets import QHBoxLayout\n",
    "from PyQt5.QtWidgets import QPushButton\n",
    "from PyQt5.QtWidgets import QWidget\n",
    "\n",
    "app = QApplication(sys.argv)\n",
    "window = QWidget()\n",
    "window.setWindowTitle('QHBoxLayout')\n",
    "layout = QHBoxLayout()\n",
    "layout.addWidget(QPushButton('Left'))\n",
    "layout.addWidget(QPushButton('Center'))\n",
    "layout.addWidget(QPushButton('Right'))\n",
    "window.setLayout(layout)\n",
    "window.show()\n",
    "sys.exit(app.exec_())"
   ]
  },
  {
   "attachments": {
    "v-layout.webp": {
     "image/webp": "[encoded data removed]"
    }
   },
   "cell_type": "markdown",
   "id": "b593257e",
   "metadata": {},
   "source": [
    "![v-layout.webp](attachment:v-layout.webp)"
   ]
  },
  {
   "cell_type": "code",
   "execution_count": null,
   "id": "ab39bfd5",
   "metadata": {},
   "outputs": [],
   "source": [
    "# Filename: g_layout.py\n",
    "\n",
    "\"\"\"Grid layout example.\"\"\"\n",
    "\n",
    "import sys\n",
    "\n",
    "from PyQt5.QtWidgets import QApplication\n",
    "from PyQt5.QtWidgets import QGridLayout\n",
    "from PyQt5.QtWidgets import QPushButton\n",
    "from PyQt5.QtWidgets import QWidget\n",
    "\n",
    "app = QApplication(sys.argv)\n",
    "window = QWidget()\n",
    "window.setWindowTitle('QGridLayout')\n",
    "layout = QGridLayout()\n",
    "layout.addWidget(QPushButton('Button (0, 0)'), 0, 0)\n",
    "layout.addWidget(QPushButton('Button (0, 1)'), 0, 1)\n",
    "layout.addWidget(QPushButton('Button (0, 2)'), 0, 2)\n",
    "layout.addWidget(QPushButton('Button (1, 0)'), 1, 0)\n",
    "layout.addWidget(QPushButton('Button (1, 1)'), 1, 1)\n",
    "layout.addWidget(QPushButton('Button (1, 2)'), 1, 2)\n",
    "layout.addWidget(QPushButton('Button (2, 0)'), 2, 0)\n",
    "layout.addWidget(QPushButton('Button (2, 1) + 2 Columns Span'), 2, 1, 1, 2)\n",
    "window.setLayout(layout)\n",
    "window.show()\n",
    "sys.exit(app.exec_())"
   ]
  },
  {
   "attachments": {
    "g-layout.webp": {
     "image/webp": "[encoded data removed]"
    }
   },
   "cell_type": "markdown",
   "id": "e865ce03",
   "metadata": {},
   "source": [
    "![g-layout.webp](attachment:g-layout.webp)"
   ]
  },
  {
   "cell_type": "code",
   "execution_count": null,
   "id": "ca63608a",
   "metadata": {},
   "outputs": [],
   "source": [
    "# Filename: g_layout.py\n",
    "\n",
    "\"\"\"Grid layout example.\"\"\"\n",
    "\n",
    "import sys\n",
    "\n",
    "from PyQt5.QtWidgets import QApplication\n",
    "from PyQt5.QtWidgets import QGridLayout\n",
    "from PyQt5.QtWidgets import QPushButton\n",
    "from PyQt5.QtWidgets import QWidget\n",
    "\n",
    "app = QApplication(sys.argv)\n",
    "window = QWidget()\n",
    "window.setWindowTitle('QGridLayout')\n",
    "layout = QGridLayout()\n",
    "layout.addWidget(QPushButton('Button (0, 0)'), 0, 0)\n",
    "layout.addWidget(QPushButton('Button (0, 1)'), 0, 1)\n",
    "layout.addWidget(QPushButton('Button (0, 2)'), 0, 2)\n",
    "layout.addWidget(QPushButton('Button (1, 0)'), 1, 0)\n",
    "layout.addWidget(QPushButton('Button (1, 1)'), 1, 1)\n",
    "layout.addWidget(QPushButton('Button (1, 2)'), 1, 2)\n",
    "layout.addWidget(QPushButton('Button (2, 0)'), 2, 0)\n",
    "layout.addWidget(QPushButton('Button (2, 1) + 2 Columns Span'), 2, 1, 1, 2)\n",
    "window.setLayout(layout)\n",
    "window.show()\n",
    "sys.exit(app.exec_())"
   ]
  },
  {
   "attachments": {
    "g-layout%202.webp": {
     "image/webp": "[encoded data removed]"
    }
   },
   "cell_type": "markdown",
   "id": "98b1d900",
   "metadata": {},
   "source": [
    "![g-layout%202.webp](attachment:g-layout%202.webp)"
   ]
  },
  {
   "cell_type": "code",
   "execution_count": null,
   "id": "d716adf3",
   "metadata": {},
   "outputs": [],
   "source": [
    "# Filename: f_layout.py\n",
    "\n",
    "\"\"\"Form layout example.\"\"\"\n",
    "\n",
    "import sys\n",
    "\n",
    "from PyQt5.QtWidgets import QApplication\n",
    "from PyQt5.QtWidgets import QFormLayout\n",
    "from PyQt5.QtWidgets import QLineEdit\n",
    "from PyQt5.QtWidgets import QWidget\n",
    "\n",
    "app = QApplication(sys.argv)\n",
    "window = QWidget()\n",
    "window.setWindowTitle('QFormLayout')\n",
    "layout = QFormLayout()\n",
    "layout.addRow('Name:', QLineEdit())\n",
    "layout.addRow('Age:', QLineEdit())\n",
    "layout.addRow('Job:', QLineEdit())\n",
    "layout.addRow('Hobbies:', QLineEdit())\n",
    "window.setLayout(layout)\n",
    "window.show()\n",
    "sys.exit(app.exec_())"
   ]
  },
  {
   "attachments": {
    "QFormLayout.webp": {
     "image/webp": "[encoded data removed]"
    }
   },
   "cell_type": "markdown",
   "id": "f03f751c",
   "metadata": {},
   "source": [
    "![QFormLayout.webp](attachment:QFormLayout.webp)"
   ]
  },
  {
   "cell_type": "code",
   "execution_count": null,
   "id": "b0710d8a",
   "metadata": {},
   "outputs": [],
   "source": []
  }
 ],
 "metadata": {
  "kernelspec": {
   "display_name": "Python 3 (ipykernel)",
   "language": "python",
   "name": "python3"
  },
  "language_info": {
   "codemirror_mode": {
    "name": "ipython",
    "version": 3
   },
   "file_extension": ".py",
   "mimetype": "text/x-python",
   "name": "python",
   "nbconvert_exporter": "python",
   "pygments_lexer": "ipython3",
   "version": "3.10.4"
  }
 },
 "nbformat": 4,
 "nbformat_minor": 5
}
